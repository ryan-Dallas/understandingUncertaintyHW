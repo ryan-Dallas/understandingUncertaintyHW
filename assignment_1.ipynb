{
 "cells": [
  {
   "cell_type": "markdown",
   "id": "87b91d83",
   "metadata": {},
   "source": [
    "# Assignment 1\n",
    "### Understanding Uncertainty\n",
    "### Due 9/5"
   ]
  },
  {
   "cell_type": "markdown",
   "id": "380e339f",
   "metadata": {},
   "source": [
    "1. Create a new public repo on Github under your account. Include a readme file.\n",
    "2. Clone it to your machine. Put this file into that repo.\n",
    "3. Use the following function to download the example data for the course:"
   ]
  },
  {
   "cell_type": "code",
   "execution_count": 1,
   "id": "2d62b4f6",
   "metadata": {},
   "outputs": [
    {
     "name": "stdout",
     "output_type": "stream",
     "text": [
      "Downloading course data\n",
      "Download complete\n",
      "Extracting data files...\n",
      "Data extracted\n"
     ]
    }
   ],
   "source": [
    "def download_data(force=False):\n",
    "    \"\"\"Download and extract course data from Zenodo.\"\"\"\n",
    "    import urllib.request, zipfile, os\n",
    "    \n",
    "    zip_path = 'data.zip'\n",
    "    data_dir = 'data'\n",
    "    \n",
    "    if not os.path.exists(zip_path) or force:\n",
    "        print(\"Downloading course data\")\n",
    "        urllib.request.urlretrieve(\n",
    "            'https://zenodo.org/records/16954427/files/data.zip?download=1',\n",
    "            zip_path\n",
    "        )\n",
    "        print(\"Download complete\")\n",
    "    else:\n",
    "        print(\"Download file already exists\")\n",
    "        \n",
    "    if not os.path.exists(data_dir) or force:\n",
    "        print(\"Extracting data files...\")\n",
    "        with zipfile.ZipFile(zip_path, 'r') as zip_ref:\n",
    "            zip_ref.extractall(data_dir)\n",
    "        print(\"Data extracted\")\n",
    "    else:\n",
    "        print(\"Data directory already exists\")\n",
    "\n",
    "download_data()"
   ]
  },
  {
   "cell_type": "markdown",
   "id": "01db0045",
   "metadata": {},
   "source": [
    "4. Open one of the datasets using Pandas:\n",
    "    1. `ames_prices.csv`: Housing characteristics and prices\n",
    "    2. `college_completion.csv`: Public, nonprofit, and for-profit educational institutions, graduation rates, and financial aid\n",
    "    3. `ForeignGifts_edu.csv`: Monetary and in-kind transfers from foreign entities to U.S. educational institutions\n",
    "    4. `iowa.csv`: Liquor sales in Iowa, at the transaction level\n",
    "    5. `metabric.csv`: Cancer patient and outcome data\n",
    "    6. `mn_police_use_of_force.csv`: Records of physical altercations between Minnessota police and private citizens\n",
    "    7. `nhanes_data_17_18.csv`: National Health and Nutrition Examination Survey\n",
    "    8. `tuna.csv`: Yellowfin Tuna Genome (I don't recommend this one; it's just a sequence of G, C, A, T )\n",
    "    9. `va_procurement.csv`: Public spending by the state of Virginia"
   ]
  },
  {
   "cell_type": "code",
   "execution_count": null,
   "id": "c2612009",
   "metadata": {},
   "outputs": [
    {
     "data": {
      "text/html": [
       "<div>\n",
       "<style scoped>\n",
       "    .dataframe tbody tr th:only-of-type {\n",
       "        vertical-align: middle;\n",
       "    }\n",
       "\n",
       "    .dataframe tbody tr th {\n",
       "        vertical-align: top;\n",
       "    }\n",
       "\n",
       "    .dataframe thead th {\n",
       "        text-align: right;\n",
       "    }\n",
       "</style>\n",
       "<table border=\"1\" class=\"dataframe\">\n",
       "  <thead>\n",
       "    <tr style=\"text-align: right;\">\n",
       "      <th></th>\n",
       "      <th>ID</th>\n",
       "      <th>OPEID</th>\n",
       "      <th>Institution Name</th>\n",
       "      <th>City</th>\n",
       "      <th>State</th>\n",
       "      <th>Foreign Gift Received Date</th>\n",
       "      <th>Foreign Gift Amount</th>\n",
       "      <th>Gift Type</th>\n",
       "      <th>Country of Giftor</th>\n",
       "      <th>Giftor Name</th>\n",
       "    </tr>\n",
       "  </thead>\n",
       "  <tbody>\n",
       "    <tr>\n",
       "      <th>0</th>\n",
       "      <td>1</td>\n",
       "      <td>102000</td>\n",
       "      <td>Jacksonville State University</td>\n",
       "      <td>Jacksonville</td>\n",
       "      <td>AL</td>\n",
       "      <td>43738</td>\n",
       "      <td>250000</td>\n",
       "      <td>Monetary Gift</td>\n",
       "      <td>CHINA</td>\n",
       "      <td>NaN</td>\n",
       "    </tr>\n",
       "    <tr>\n",
       "      <th>1</th>\n",
       "      <td>2</td>\n",
       "      <td>104700</td>\n",
       "      <td>Troy University</td>\n",
       "      <td>Troy</td>\n",
       "      <td>AL</td>\n",
       "      <td>43592</td>\n",
       "      <td>463657</td>\n",
       "      <td>Contract</td>\n",
       "      <td>CHINA</td>\n",
       "      <td>Confucius Institute Headquarters</td>\n",
       "    </tr>\n",
       "    <tr>\n",
       "      <th>2</th>\n",
       "      <td>3</td>\n",
       "      <td>105100</td>\n",
       "      <td>University of Alabama</td>\n",
       "      <td>Tuscaloosa</td>\n",
       "      <td>AL</td>\n",
       "      <td>43466</td>\n",
       "      <td>3649107</td>\n",
       "      <td>Contract</td>\n",
       "      <td>ENGLAND</td>\n",
       "      <td>Springer Nature Customer Service Ce</td>\n",
       "    </tr>\n",
       "    <tr>\n",
       "      <th>3</th>\n",
       "      <td>4</td>\n",
       "      <td>105100</td>\n",
       "      <td>University of Alabama</td>\n",
       "      <td>Tuscaloosa</td>\n",
       "      <td>AL</td>\n",
       "      <td>43472</td>\n",
       "      <td>1000</td>\n",
       "      <td>Contract</td>\n",
       "      <td>SAUDI ARABIA</td>\n",
       "      <td>Saudi Arabia Education Mission</td>\n",
       "    </tr>\n",
       "    <tr>\n",
       "      <th>4</th>\n",
       "      <td>5</td>\n",
       "      <td>105100</td>\n",
       "      <td>University of Alabama</td>\n",
       "      <td>Tuscaloosa</td>\n",
       "      <td>AL</td>\n",
       "      <td>43479</td>\n",
       "      <td>49476</td>\n",
       "      <td>Contract</td>\n",
       "      <td>SAUDI ARABIA</td>\n",
       "      <td>Saudi Arabia Education Mission</td>\n",
       "    </tr>\n",
       "  </tbody>\n",
       "</table>\n",
       "</div>"
      ],
      "text/plain": [
       "   ID   OPEID               Institution Name          City State  \\\n",
       "0   1  102000  Jacksonville State University  Jacksonville    AL   \n",
       "1   2  104700                Troy University          Troy    AL   \n",
       "2   3  105100          University of Alabama    Tuscaloosa    AL   \n",
       "3   4  105100          University of Alabama    Tuscaloosa    AL   \n",
       "4   5  105100          University of Alabama    Tuscaloosa    AL   \n",
       "\n",
       "   Foreign Gift Received Date  Foreign Gift Amount      Gift Type  \\\n",
       "0                       43738               250000  Monetary Gift   \n",
       "1                       43592               463657       Contract   \n",
       "2                       43466              3649107       Contract   \n",
       "3                       43472                 1000       Contract   \n",
       "4                       43479                49476       Contract   \n",
       "\n",
       "  Country of Giftor                          Giftor Name  \n",
       "0             CHINA                                  NaN  \n",
       "1             CHINA     Confucius Institute Headquarters  \n",
       "2           ENGLAND  Springer Nature Customer Service Ce  \n",
       "3      SAUDI ARABIA       Saudi Arabia Education Mission  \n",
       "4      SAUDI ARABIA       Saudi Arabia Education Mission  "
      ]
     },
     "execution_count": 8,
     "metadata": {},
     "output_type": "execute_result"
    }
   ],
   "source": [
    "import pandas as pd\n",
    "import numpy as np\n",
    "\n",
    "fg = pd.read_csv(\"./data/ForeignGifts_edu.csv\")\n",
    "fg.head()"
   ]
  },
  {
   "cell_type": "code",
   "execution_count": 9,
   "id": "6dfb249d",
   "metadata": {},
   "outputs": [
    {
     "data": {
      "text/plain": [
       "Index(['ID', 'OPEID', 'Institution Name', 'City', 'State',\n",
       "       'Foreign Gift Received Date', 'Foreign Gift Amount', 'Gift Type',\n",
       "       'Country of Giftor', 'Giftor Name'],\n",
       "      dtype='object')"
      ]
     },
     "execution_count": 9,
     "metadata": {},
     "output_type": "execute_result"
    }
   ],
   "source": [
    "fg.columns"
   ]
  },
  {
   "cell_type": "code",
   "execution_count": 10,
   "id": "7d3ab1cc",
   "metadata": {},
   "outputs": [
    {
     "data": {
      "text/plain": [
       "<bound method NDFrame.describe of           ID    OPEID                     Institution Name          City  \\\n",
       "0          1   102000        Jacksonville State University  Jacksonville   \n",
       "1          2   104700                      Troy University          Troy   \n",
       "2          3   105100                University of Alabama    Tuscaloosa   \n",
       "3          4   105100                University of Alabama    Tuscaloosa   \n",
       "4          5   105100                University of Alabama    Tuscaloosa   \n",
       "...      ...      ...                                  ...           ...   \n",
       "28216  28217  4279700  Albert Einstein College of Medicine         Bronx   \n",
       "28217  28218  4279700  Albert Einstein College of Medicine         Bronx   \n",
       "28218  28219  4279700  Albert Einstein College of Medicine         Bronx   \n",
       "28219  28220  4279700  Albert Einstein College of Medicine         Bronx   \n",
       "28220  28221  4279700  Albert Einstein College of Medicine         Bronx   \n",
       "\n",
       "      State  Foreign Gift Received Date  Foreign Gift Amount      Gift Type  \\\n",
       "0        AL                       43738               250000  Monetary Gift   \n",
       "1        AL                       43592               463657       Contract   \n",
       "2        AL                       43466              3649107       Contract   \n",
       "3        AL                       43472                 1000       Contract   \n",
       "4        AL                       43479                49476       Contract   \n",
       "...     ...                         ...                  ...            ...   \n",
       "28216    NY                       42704               381717       Contract   \n",
       "28217    NY                       42778               444938       Contract   \n",
       "28218    NY                       42907              1064580       Contract   \n",
       "28219    NY                       42948               737375       Contract   \n",
       "28220    NY                       43692              1024469  Monetary Gift   \n",
       "\n",
       "      Country of Giftor                          Giftor Name  \n",
       "0                 CHINA                                  NaN  \n",
       "1                 CHINA     Confucius Institute Headquarters  \n",
       "2               ENGLAND  Springer Nature Customer Service Ce  \n",
       "3          SAUDI ARABIA       Saudi Arabia Education Mission  \n",
       "4          SAUDI ARABIA       Saudi Arabia Education Mission  \n",
       "...                 ...                                  ...  \n",
       "28216             CHINA  Chia Tai TianQing Pharmaceutical Gr  \n",
       "28217            ISRAEL                      BL Oncology Ltd  \n",
       "28218           ENGLAND               Roche Products Limited  \n",
       "28219       SWITZERLAND               F Hoffman-La Roche Ltd  \n",
       "28220            ISRAEL  Estate of Alfred Gertrud Sommerguth  \n",
       "\n",
       "[28221 rows x 10 columns]>"
      ]
     },
     "execution_count": 10,
     "metadata": {},
     "output_type": "execute_result"
    }
   ],
   "source": [
    "fg.describe"
   ]
  },
  {
   "cell_type": "code",
   "execution_count": 21,
   "id": "2aac855e",
   "metadata": {},
   "outputs": [
    {
     "data": {
      "text/plain": [
       "ID                             int64\n",
       "OPEID                          int64\n",
       "Institution Name              object\n",
       "City                          object\n",
       "State                         object\n",
       "Foreign Gift Received Date     int64\n",
       "Foreign Gift Amount            int64\n",
       "Gift Type                     object\n",
       "Country of Giftor             object\n",
       "Giftor Name                   object\n",
       "dtype: object"
      ]
     },
     "execution_count": 21,
     "metadata": {},
     "output_type": "execute_result"
    }
   ],
   "source": [
    "fg.dtypes"
   ]
  },
  {
   "cell_type": "markdown",
   "id": "fa5cade1",
   "metadata": {},
   "source": [
    "5. Pick two or three variables and briefly analyze them\n",
    "    - Is it a categorical or numeric variable?\n",
    "    - How many missing values are there? (`df['var'].isna()` and `np.sum()`)\n",
    "    - If categorical, tabulate the values (`df['var'].value_counts()`) and if numeric, get a summary (`df['var'].describe()`)"
   ]
  },
  {
   "cell_type": "code",
   "execution_count": 26,
   "id": "fa1b20b6",
   "metadata": {},
   "outputs": [
    {
     "name": "stdout",
     "output_type": "stream",
     "text": [
      "Missing entries for Foreign Gift Amt:  0\n",
      "Missing entries for Country of Giftor:  0\n",
      "Tabulated Information re: Foreign Gift Amount\n",
      "count    2.822100e+04\n",
      "mean     5.882327e+05\n",
      "std      3.222011e+06\n",
      "min     -5.377700e+05\n",
      "25%      5.700000e+03\n",
      "50%      9.461500e+04\n",
      "75%      3.761420e+05\n",
      "max      1.000000e+08\n",
      "Name: Foreign Gift Amount, dtype: float64\n",
      "Tabulated Data re: Country of Giftor\n"
     ]
    },
    {
     "data": {
      "text/plain": [
       "Country of Giftor\n",
       "ENGLAND                  3655\n",
       "CHINA                    2461\n",
       "CANADA                   2344\n",
       "JAPAN                    1896\n",
       "SWITZERLAND              1676\n",
       "                         ... \n",
       "NEPAL                       1\n",
       "ST. KITTS-NEVIS             1\n",
       "TUNISIA                     1\n",
       "MARSHAL ISLANDS (THE)       1\n",
       "ANTIGUA                     1\n",
       "Name: count, Length: 155, dtype: int64"
      ]
     },
     "execution_count": 26,
     "metadata": {},
     "output_type": "execute_result"
    }
   ],
   "source": [
    "# Foreign Gift Amount >> numeric variable\n",
    "vec1 = fg['Foreign Gift Amount'].isna()\n",
    "print(\"Missing entries for Foreign Gift Amt: \", np.sum(vec1))\n",
    "\n",
    "# Country of Giftor >> categorical variable\n",
    "vec2 = fg[\"Country of Giftor\"].isna()\n",
    "print(\"Missing entries for Country of Giftor: \", np.sum(vec2))\n",
    "\n",
    "# Tabulate Foreign Gift Amount\n",
    "print(\"Tabulated Information re: Foreign Gift Amount\")\n",
    "print(fg[\"Foreign Gift Amount\"].describe())\n",
    "\n",
    "print(\"Tabulated Data re: Country of Giftor\")\n",
    "fg[\"Country of Giftor\"].value_counts()"
   ]
  },
  {
   "cell_type": "markdown",
   "id": "dbf2318a",
   "metadata": {},
   "source": [
    "6. What are some questions and prediction tools you could create using these data? Who would the stakeholder be for that prediction tool? What practical or ethical questions would it create? What other data would you want, that are not available in your data?"
   ]
  },
  {
   "cell_type": "markdown",
   "id": "4a4679cc",
   "metadata": {},
   "source": [
    "Questions:\n",
    "- How much money is given to each state in total?\n",
    "- How much money is given from each country?\n",
    "- Combine those, how much money is each country giving each state?\n",
    "- Let's see a breakdown of what type of gifts each country is giving.\n",
    "\n",
    "Prediction Tools:\n",
    "- Can a model predict what a foreign gift is given its country of origin, amount, and the name of the receiving institution?\n",
    "- Can a model predict how much money in foreign gifts a country will spend in a year given the exisint dates, countries, and amounts?\n",
    "\n",
    "Practical/Ethical Questions:\n",
    "- How/why is money distributed across institutions and states in the way it is, according to the data?\n",
    "- What are the trends in foreign gifts from countries over time, and how is that information associated with the diplomatic/foreign relations of those countries over time?\n",
    "- Do any transactions which appear anomalous or abnormally \"routine\"/can this data be used to search for corruption in giftors/recipient institutions?\n",
    "\n",
    "What other data would I want...\n",
    "- Intended purpose of gift (e.g., Research, Manufacturing, Goodwill/Foreign Relations)\n",
    "- Number of foreign nationals from each country at the recipient institutions >> could a predictive model predict the amount of money given to an institution in a given year when incorporating how many of a given country's nationals are associated with (i.e., students, employees, etc) the recipient institution?"
   ]
  },
  {
   "cell_type": "markdown",
   "id": "a4a7ddc7",
   "metadata": {},
   "source": [
    "7. Commit your work to the repo (`git commit -am 'Finish assignment'` at the command line, or use the Git panel in VS Code). Push your work back to Github and submit the link on Canvas in the assignment tab."
   ]
  }
 ],
 "metadata": {
  "kernelspec": {
   "display_name": "base",
   "language": "python",
   "name": "python3"
  },
  "language_info": {
   "codemirror_mode": {
    "name": "ipython",
    "version": 3
   },
   "file_extension": ".py",
   "mimetype": "text/x-python",
   "name": "python",
   "nbconvert_exporter": "python",
   "pygments_lexer": "ipython3",
   "version": "3.13.5"
  }
 },
 "nbformat": 4,
 "nbformat_minor": 5
}
