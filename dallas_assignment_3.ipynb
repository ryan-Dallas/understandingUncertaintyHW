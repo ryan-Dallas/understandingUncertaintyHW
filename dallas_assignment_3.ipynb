{
 "cells": [
  {
   "cell_type": "markdown",
   "id": "7c6c1330",
   "metadata": {},
   "source": [
    "# Assignment 3\n",
    "### Due 9/23. Do four of five."
   ]
  },
  {
   "cell_type": "code",
   "execution_count": 75,
   "id": "62c503cf",
   "metadata": {},
   "outputs": [],
   "source": [
    "import pandas as pd\n",
    "import numpy as np\n",
    "import matplotlib.pyplot as plt\n",
    "import seaborn as sns"
   ]
  },
  {
   "cell_type": "markdown",
   "id": "c7761202",
   "metadata": {},
   "source": [
    "1. \n",
    "- Open the NHANES (or Ames prices or college completion datasets, if you prefer)\n",
    "- Find two categorical variables of interest (there are 198, and short descriptions are given in the `nhanes_meta_17_18.csv` file). Investigate their missing values (you don't have to focus on missing values for this analysis like we did with police use of force, but always be aware of how dirty the data are)\n",
    "- Compute a contingency table for your categorical $X$ and $Y$\n",
    "- Discuss any interesting patterns (or lack of one) that you observe"
   ]
  },
  {
   "cell_type": "code",
   "execution_count": 99,
   "id": "7db5b658",
   "metadata": {},
   "outputs": [
    {
     "name": "stderr",
     "output_type": "stream",
     "text": [
      "C:\\Users\\rdall\\AppData\\Local\\Temp\\ipykernel_29260\\4169677004.py:1: DtypeWarning: Columns (142) have mixed types. Specify dtype option on import or set low_memory=False.\n",
      "  nhanes = pd.read_csv(\"../Data/nhanes_data_17_18.csv\")\n"
     ]
    },
    {
     "data": {
      "text/plain": [
       "(8366, 198)"
      ]
     },
     "execution_count": 99,
     "metadata": {},
     "output_type": "execute_result"
    }
   ],
   "source": [
    "nhanes = pd.read_csv(\"../Data/nhanes_data_17_18.csv\")\n",
    "#nhanes.head()\n",
    "nhanes.shape # 8366 rows, 198 columns"
   ]
  },
  {
   "cell_type": "code",
   "execution_count": 5,
   "id": "60a01775",
   "metadata": {},
   "outputs": [
    {
     "data": {
      "text/plain": [
       "GeneralHealthCondition\n",
       "Good         2454\n",
       "Very good    1544\n",
       "Fair or      1175\n",
       "Excellent     619\n",
       "Poor?         172\n",
       "Name: count, dtype: int64"
      ]
     },
     "execution_count": 5,
     "metadata": {},
     "output_type": "execute_result"
    }
   ],
   "source": [
    "#2x categorical variables: GeneralHealthCondition // TriedToQuitSmoking\n",
    "nhanes[\"GeneralHealthCondition\"].value_counts()"
   ]
  },
  {
   "cell_type": "code",
   "execution_count": 6,
   "id": "54a8e625",
   "metadata": {},
   "outputs": [
    {
     "data": {
      "text/plain": [
       "2402"
      ]
     },
     "execution_count": 6,
     "metadata": {},
     "output_type": "execute_result"
    }
   ],
   "source": [
    "sum(nhanes[\"GeneralHealthCondition\"].isna())"
   ]
  },
  {
   "cell_type": "code",
   "execution_count": 7,
   "id": "df8eae88",
   "metadata": {},
   "outputs": [
    {
     "name": "stdout",
     "output_type": "stream",
     "text": [
      "5964\n",
      "8366\n",
      "28.71145111164236\n"
     ]
    }
   ],
   "source": [
    "print(2454+1544+1175+619+172) # the sum of all values revealed by value_counts()\n",
    "print(5964 + 2402)              # above sum plus na row count = confirmed all rows accounted for.\n",
    "print((2402/8366) * 100)"
   ]
  },
  {
   "cell_type": "code",
   "execution_count": 8,
   "id": "f852c5e2",
   "metadata": {},
   "outputs": [
    {
     "data": {
      "text/plain": [
       "TriedToQuitSmoking\n",
       "1.0    517\n",
       "0.0    469\n",
       "Name: count, dtype: int64"
      ]
     },
     "execution_count": 8,
     "metadata": {},
     "output_type": "execute_result"
    }
   ],
   "source": [
    "nhanes[\"TriedToQuitSmoking\"].value_counts()"
   ]
  },
  {
   "cell_type": "code",
   "execution_count": 9,
   "id": "6ea24d10",
   "metadata": {},
   "outputs": [
    {
     "data": {
      "text/plain": [
       "7380"
      ]
     },
     "execution_count": 9,
     "metadata": {},
     "output_type": "execute_result"
    }
   ],
   "source": [
    "sum(nhanes[\"TriedToQuitSmoking\"].isna())"
   ]
  },
  {
   "cell_type": "code",
   "execution_count": 10,
   "id": "f3686991",
   "metadata": {},
   "outputs": [
    {
     "name": "stdout",
     "output_type": "stream",
     "text": [
      "8366\n",
      "88.21420033468802\n"
     ]
    }
   ],
   "source": [
    "print(7380 + 517 + 469) # True and False for value_counts plus na rows = 8366, all rows accounted for.\n",
    "print((7380 / 8366) * 100)"
   ]
  },
  {
   "cell_type": "markdown",
   "id": "c89c06c3",
   "metadata": {},
   "source": [
    "Starting with \"General Health Condition\", it appears 28.7% percent of the data are missing.  This in-and-of itself is not suspicious, but it is a significant swath of the data; i.e., not malicious, but a considerable portion of data missing.\n",
    "\n",
    "Moving to the \"Tried to Quit Smoking,\" over 88% of data are missing; this is not ostensibly suspicious, there is a good reason so much of this data would be \"missing\" or Nan - those who have never smoked would find the field not-applicable."
   ]
  },
  {
   "cell_type": "code",
   "execution_count": 11,
   "id": "8b4676b8",
   "metadata": {},
   "outputs": [
    {
     "data": {
      "text/html": [
       "<div>\n",
       "<style scoped>\n",
       "    .dataframe tbody tr th:only-of-type {\n",
       "        vertical-align: middle;\n",
       "    }\n",
       "\n",
       "    .dataframe tbody tr th {\n",
       "        vertical-align: top;\n",
       "    }\n",
       "\n",
       "    .dataframe thead th {\n",
       "        text-align: right;\n",
       "    }\n",
       "</style>\n",
       "<table border=\"1\" class=\"dataframe\">\n",
       "  <thead>\n",
       "    <tr style=\"text-align: right;\">\n",
       "      <th>TriedToQuitSmoking</th>\n",
       "      <th>0.0</th>\n",
       "      <th>1.0</th>\n",
       "    </tr>\n",
       "    <tr>\n",
       "      <th>GeneralHealthCondition</th>\n",
       "      <th></th>\n",
       "      <th></th>\n",
       "    </tr>\n",
       "  </thead>\n",
       "  <tbody>\n",
       "    <tr>\n",
       "      <th>Excellent</th>\n",
       "      <td>21</td>\n",
       "      <td>33</td>\n",
       "    </tr>\n",
       "    <tr>\n",
       "      <th>Fair or</th>\n",
       "      <td>127</td>\n",
       "      <td>152</td>\n",
       "    </tr>\n",
       "    <tr>\n",
       "      <th>Good</th>\n",
       "      <td>195</td>\n",
       "      <td>197</td>\n",
       "    </tr>\n",
       "    <tr>\n",
       "      <th>Poor?</th>\n",
       "      <td>21</td>\n",
       "      <td>22</td>\n",
       "    </tr>\n",
       "    <tr>\n",
       "      <th>Very good</th>\n",
       "      <td>78</td>\n",
       "      <td>80</td>\n",
       "    </tr>\n",
       "  </tbody>\n",
       "</table>\n",
       "</div>"
      ],
      "text/plain": [
       "TriedToQuitSmoking      0.0  1.0\n",
       "GeneralHealthCondition          \n",
       "Excellent                21   33\n",
       "Fair or                 127  152\n",
       "Good                    195  197\n",
       "Poor?                    21   22\n",
       "Very good                78   80"
      ]
     },
     "execution_count": 11,
     "metadata": {},
     "output_type": "execute_result"
    }
   ],
   "source": [
    "pd.crosstab(nhanes[\"GeneralHealthCondition\"], nhanes[\"TriedToQuitSmoking\"])"
   ]
  },
  {
   "cell_type": "code",
   "execution_count": 12,
   "id": "ad21290e",
   "metadata": {},
   "outputs": [
    {
     "data": {
      "text/html": [
       "<div>\n",
       "<style scoped>\n",
       "    .dataframe tbody tr th:only-of-type {\n",
       "        vertical-align: middle;\n",
       "    }\n",
       "\n",
       "    .dataframe tbody tr th {\n",
       "        vertical-align: top;\n",
       "    }\n",
       "\n",
       "    .dataframe thead th {\n",
       "        text-align: right;\n",
       "    }\n",
       "</style>\n",
       "<table border=\"1\" class=\"dataframe\">\n",
       "  <thead>\n",
       "    <tr style=\"text-align: right;\">\n",
       "      <th>TriedToQuitSmoking</th>\n",
       "      <th>0.0</th>\n",
       "      <th>1.0</th>\n",
       "      <th>NO ANSWER</th>\n",
       "    </tr>\n",
       "    <tr>\n",
       "      <th>GeneralHealthCondition</th>\n",
       "      <th></th>\n",
       "      <th></th>\n",
       "      <th></th>\n",
       "    </tr>\n",
       "  </thead>\n",
       "  <tbody>\n",
       "    <tr>\n",
       "      <th>Excellent</th>\n",
       "      <td>21</td>\n",
       "      <td>33</td>\n",
       "      <td>565</td>\n",
       "    </tr>\n",
       "    <tr>\n",
       "      <th>Fair or</th>\n",
       "      <td>127</td>\n",
       "      <td>152</td>\n",
       "      <td>896</td>\n",
       "    </tr>\n",
       "    <tr>\n",
       "      <th>Good</th>\n",
       "      <td>195</td>\n",
       "      <td>197</td>\n",
       "      <td>2062</td>\n",
       "    </tr>\n",
       "    <tr>\n",
       "      <th>NO ANSWER</th>\n",
       "      <td>27</td>\n",
       "      <td>33</td>\n",
       "      <td>2342</td>\n",
       "    </tr>\n",
       "    <tr>\n",
       "      <th>Poor?</th>\n",
       "      <td>21</td>\n",
       "      <td>22</td>\n",
       "      <td>129</td>\n",
       "    </tr>\n",
       "    <tr>\n",
       "      <th>Very good</th>\n",
       "      <td>78</td>\n",
       "      <td>80</td>\n",
       "      <td>1386</td>\n",
       "    </tr>\n",
       "  </tbody>\n",
       "</table>\n",
       "</div>"
      ],
      "text/plain": [
       "TriedToQuitSmoking      0.0  1.0  NO ANSWER\n",
       "GeneralHealthCondition                     \n",
       "Excellent                21   33        565\n",
       "Fair or                 127  152        896\n",
       "Good                    195  197       2062\n",
       "NO ANSWER                27   33       2342\n",
       "Poor?                    21   22        129\n",
       "Very good                78   80       1386"
      ]
     },
     "execution_count": 12,
     "metadata": {},
     "output_type": "execute_result"
    }
   ],
   "source": [
    "#nhanes[\"GenHealthCondNA\"] = nhanes[\"GeneralHealthCondition\"].isna()\n",
    "#nhanes[\"QuitSmokingNA\"] = nhanes[\"TriedToQuitSmoking\"].isna()\n",
    "#pd.crosstab(nhanes[\"GenHealthCondNA\"], nhanes[\"QuitSmokingNA\"])\n",
    "nhanes[\"GeneralHealthCondition\"] = nhanes[\"GeneralHealthCondition\"].fillna(\"NO ANSWER\")\n",
    "nhanes[\"TriedToQuitSmoking\"] = nhanes[\"TriedToQuitSmoking\"].fillna(\"NO ANSWER\")\n",
    "pd.crosstab(nhanes[\"GeneralHealthCondition\"], nhanes[\"TriedToQuitSmoking\"])"
   ]
  },
  {
   "cell_type": "markdown",
   "id": "12dec253",
   "metadata": {},
   "source": [
    "In each category of General Health Condition, more respondents who report trying to quit smoking (1.0) respond in the category than do respondents who report NOT having tried to quit (0.0)."
   ]
  },
  {
   "cell_type": "markdown",
   "id": "6cef48e5",
   "metadata": {},
   "source": [
    "2. \n",
    "- Open the NHANES dataset\n",
    "- Find a categorical and numeric variable of interest (there are 198, and short descriptions are given in the `nhanes_meta_17_18.csv` file). Investigate their missing values (you don't have to focus on missing values for this analysis, but always be aware of them)\n",
    "- Make descriptive tables and grouped kernel density plots to represent the variation in your numeric $Y$ conditional on your categorical $X$\n",
    "- Discuss any interesting patterns (or lack of one) that you observe"
   ]
  },
  {
   "cell_type": "code",
   "execution_count": 13,
   "id": "1f17824b",
   "metadata": {},
   "outputs": [
    {
     "data": {
      "text/plain": [
       "[Text(0.5, 1.0, 'KDE')]"
      ]
     },
     "execution_count": 13,
     "metadata": {},
     "output_type": "execute_result"
    },
    {
     "data": {
      "image/png": "[encoded data removed]",
      "text/plain": [
       "<Figure size 640x480 with 1 Axes>"
      ]
     },
     "metadata": {},
     "output_type": "display_data"
    }
   ],
   "source": [
    "# 1x categorical plus 1x numeric\n",
    "# TriedToQuitSmoking // DaysSmokedCigsDuringPast30Days\n",
    "\n",
    "#nhanes[\"DaysSmokedCigsDuringPast30Days\"].describe()\n",
    "#print(\"Missing rows: \", sum(nhanes[\"DaysSmokedCigsDuringPast30Days\"].isna()))\n",
    "# 7352 rows NaN vs. 7380 NaN in Tried to Quit Smoking\n",
    "# Filter those out...\n",
    "\n",
    "#type(np.nan) >> a float\n",
    "temp = nhanes[[\"DaysSmokedCigsDuringPast30Days\", \"TriedToQuitSmoking\"]]\n",
    "#temp.shape\n",
    "temp = temp.loc[temp[\"TriedToQuitSmoking\"] != \"NO ANSWER\", :]\n",
    "temp.shape\n",
    "\n",
    "sns.kdeplot( data=temp, x='DaysSmokedCigsDuringPast30Days', hue=\"TriedToQuitSmoking\", common_norm=\"False\").set(title='KDE')\n",
    "#plt.show()\n"
   ]
  },
  {
   "cell_type": "markdown",
   "id": "e51f67e6",
   "metadata": {},
   "source": [
    "There is an interesting phenomenon: after 20 days, the portion of respondents in both the affirmative/negative categories of those respondents who answered the question of having tried to quit smoking spikes.  However, this is not necessarily indicative of anything.  Studies (and personal experience) show relapse after having attempted to quit any addictive substance (in this case, cigarettes) is common.  \"Finally quitting for good\" is rare, and it usually takes several attempts.  This kde plot is not necessarily indicative of anything, it would be more interesting if there were an additional question or the question were rephrased to collect a datapoint of whether the individual had tried to quit smoking within 30 days (compare that to the number of days cigarettes were smoked within the past 30 days)."
   ]
  },
  {
   "cell_type": "markdown",
   "id": "4952e789",
   "metadata": {},
   "source": [
    "3. \n",
    "We showed that the mean and median could be discovered by minimizing various kinds of loss functions; this is what machine learning is. To make a prediction $\\hat{y}(z)$ of $Y$ when $X=z$, minimize the mean squared error:\n",
    "$$\n",
    "MSE(\\hat{y}(z)) = \\dfrac{1}{N} \\sum_{i=1}^N \\left\\lbrace y_i - \\hat{y}(z) \\right\\rbrace^2 \\frac{1}{h}k\\left(\\frac{z-x_i}{h}\\right)\n",
    "$$\n",
    "Show that the solution to this problem is the LCLS/Naradaya-Watson estimator."
   ]
  },
  {
   "cell_type": "markdown",
   "id": "98884d76",
   "metadata": {},
   "source": [
    "4. \n",
    "- Write a class or set of functions that implement the LCLS/Naradaya-Watson estimator, using the Silverman plug-in estimate for the conditioning variable $X$ as the bandwidth.\n",
    "- From one of the course data sets, find two numeric variables of interest, analyze their relationship with the the LCLS/Naradaya-Watson estimator, and discuss your results."
   ]
  },
  {
   "cell_type": "code",
   "execution_count": 98,
   "id": "aea5e07f",
   "metadata": {},
   "outputs": [],
   "source": [
    "def nwe_calc(pred, targ, dataset, band = None, plot = True):\n",
    "\n",
    "    if band is None:\n",
    "        interquart = np.quantile(pred, 0.75) - np.quantile(pred, 0.25)\n",
    "        band = 0.9 * min(np.std(pred), interquart/1.34) * (len(pred)**(-0.2))\n",
    "\n",
    "    #obs = len(pred)\n",
    "    M = np.sort(pred.unique()) # already a numpy array due to sorting operation\n",
    "    pred = pred.to_numpy() # convert to numpy array\n",
    "\n",
    "    matrixOfSquaredErrors = -(pred.reshape(-1,1)-M.reshape(1,-1)) ** 2\n",
    "    # yields a broadcasted matrix, M columns, N rows (where N is len(pred))\n",
    "\n",
    "    noIdeaWhatThisIs = np.exp(matrixOfSquaredErrors/(2*band**2)) / np.sqrt(2*np.pi*band**2)\n",
    "    # ostensibly plugs the matrix into the Gaussian kernel?\n",
    "\n",
    "    print(\"the matrix of squared errors is of shape: \", noIdeaWhatThisIs.shape)  \n",
    "    print(\"the matrix of squared errors is of type: \", type(noIdeaWhatThisIs))  \n",
    "    print(\"the K matrix is of shape: \", noIdeaWhatThisIs.shape)    \n",
    "    \n",
    "    print(\"the K matrix is of type: \", type(noIdeaWhatThisIs))  \n",
    "\n",
    "    numerator = targ@noIdeaWhatThisIs # matrix multiplication\n",
    "    denominator = np.sum(noIdeaWhatThisIs, axis = 0) # still no idea.\n",
    "\n",
    "    regress = numerator/denominator\n",
    "\n",
    "    print(\"regress is of type: \", type(regress))\n",
    "    \"\"\"\n",
    "    # Compute kernel:\n",
    "    I = -(x.to_numpy().reshape(-1,1)-grid.reshape(1,-1) )**2\n",
    "    K = np.exp(I/(2*h**2) )/np.sqrt(2*np.pi*h**2 )\n",
    "\n",
    "    # Compute LCLS estimator:\n",
    "    numerator = y@K # Compute the numerator\n",
    "    denominator = np.sum(K,axis=0) # Compute denominator\n",
    "    y_hat = numerator/denominator # Compute estimator\n",
    "    \"\"\"\n",
    "\n",
    "    if plot:\n",
    "        sns.scatterplot(data=dataset, y='price', x='Yr.Sold', alpha=.05)\n",
    "        sns.lineplot(x=M, y=regress, color='orange')\n",
    "\n",
    "    return regress\n"
   ]
  },
  {
   "cell_type": "code",
   "execution_count": 87,
   "id": "66b7df40",
   "metadata": {},
   "outputs": [
    {
     "data": {
      "text/html": [
       "<div>\n",
       "<style scoped>\n",
       "    .dataframe tbody tr th:only-of-type {\n",
       "        vertical-align: middle;\n",
       "    }\n",
       "\n",
       "    .dataframe tbody tr th {\n",
       "        vertical-align: top;\n",
       "    }\n",
       "\n",
       "    .dataframe thead th {\n",
       "        text-align: right;\n",
       "    }\n",
       "</style>\n",
       "<table border=\"1\" class=\"dataframe\">\n",
       "  <thead>\n",
       "    <tr style=\"text-align: right;\">\n",
       "      <th></th>\n",
       "      <th>Order</th>\n",
       "      <th>PID</th>\n",
       "      <th>area</th>\n",
       "      <th>price</th>\n",
       "      <th>MS.SubClass</th>\n",
       "      <th>MS.Zoning</th>\n",
       "      <th>Lot.Frontage</th>\n",
       "      <th>Lot.Area</th>\n",
       "      <th>Street</th>\n",
       "      <th>Alley</th>\n",
       "      <th>...</th>\n",
       "      <th>Screen.Porch</th>\n",
       "      <th>Pool.Area</th>\n",
       "      <th>Pool.QC</th>\n",
       "      <th>Fence</th>\n",
       "      <th>Misc.Feature</th>\n",
       "      <th>Misc.Val</th>\n",
       "      <th>Mo.Sold</th>\n",
       "      <th>Yr.Sold</th>\n",
       "      <th>Sale.Type</th>\n",
       "      <th>Sale.Condition</th>\n",
       "    </tr>\n",
       "  </thead>\n",
       "  <tbody>\n",
       "    <tr>\n",
       "      <th>0</th>\n",
       "      <td>1</td>\n",
       "      <td>526301100</td>\n",
       "      <td>1656</td>\n",
       "      <td>215000</td>\n",
       "      <td>20</td>\n",
       "      <td>RL</td>\n",
       "      <td>141.0</td>\n",
       "      <td>31770</td>\n",
       "      <td>Pave</td>\n",
       "      <td>NaN</td>\n",
       "      <td>...</td>\n",
       "      <td>0</td>\n",
       "      <td>0</td>\n",
       "      <td>NaN</td>\n",
       "      <td>NaN</td>\n",
       "      <td>NaN</td>\n",
       "      <td>0</td>\n",
       "      <td>5</td>\n",
       "      <td>2010</td>\n",
       "      <td>WD</td>\n",
       "      <td>Normal</td>\n",
       "    </tr>\n",
       "    <tr>\n",
       "      <th>1</th>\n",
       "      <td>2</td>\n",
       "      <td>526350040</td>\n",
       "      <td>896</td>\n",
       "      <td>105000</td>\n",
       "      <td>20</td>\n",
       "      <td>RH</td>\n",
       "      <td>80.0</td>\n",
       "      <td>11622</td>\n",
       "      <td>Pave</td>\n",
       "      <td>NaN</td>\n",
       "      <td>...</td>\n",
       "      <td>120</td>\n",
       "      <td>0</td>\n",
       "      <td>NaN</td>\n",
       "      <td>MnPrv</td>\n",
       "      <td>NaN</td>\n",
       "      <td>0</td>\n",
       "      <td>6</td>\n",
       "      <td>2010</td>\n",
       "      <td>WD</td>\n",
       "      <td>Normal</td>\n",
       "    </tr>\n",
       "    <tr>\n",
       "      <th>2</th>\n",
       "      <td>3</td>\n",
       "      <td>526351010</td>\n",
       "      <td>1329</td>\n",
       "      <td>172000</td>\n",
       "      <td>20</td>\n",
       "      <td>RL</td>\n",
       "      <td>81.0</td>\n",
       "      <td>14267</td>\n",
       "      <td>Pave</td>\n",
       "      <td>NaN</td>\n",
       "      <td>...</td>\n",
       "      <td>0</td>\n",
       "      <td>0</td>\n",
       "      <td>NaN</td>\n",
       "      <td>NaN</td>\n",
       "      <td>Gar2</td>\n",
       "      <td>12500</td>\n",
       "      <td>6</td>\n",
       "      <td>2010</td>\n",
       "      <td>WD</td>\n",
       "      <td>Normal</td>\n",
       "    </tr>\n",
       "    <tr>\n",
       "      <th>3</th>\n",
       "      <td>4</td>\n",
       "      <td>526353030</td>\n",
       "      <td>2110</td>\n",
       "      <td>244000</td>\n",
       "      <td>20</td>\n",
       "      <td>RL</td>\n",
       "      <td>93.0</td>\n",
       "      <td>11160</td>\n",
       "      <td>Pave</td>\n",
       "      <td>NaN</td>\n",
       "      <td>...</td>\n",
       "      <td>0</td>\n",
       "      <td>0</td>\n",
       "      <td>NaN</td>\n",
       "      <td>NaN</td>\n",
       "      <td>NaN</td>\n",
       "      <td>0</td>\n",
       "      <td>4</td>\n",
       "      <td>2010</td>\n",
       "      <td>WD</td>\n",
       "      <td>Normal</td>\n",
       "    </tr>\n",
       "    <tr>\n",
       "      <th>4</th>\n",
       "      <td>5</td>\n",
       "      <td>527105010</td>\n",
       "      <td>1629</td>\n",
       "      <td>189900</td>\n",
       "      <td>60</td>\n",
       "      <td>RL</td>\n",
       "      <td>74.0</td>\n",
       "      <td>13830</td>\n",
       "      <td>Pave</td>\n",
       "      <td>NaN</td>\n",
       "      <td>...</td>\n",
       "      <td>0</td>\n",
       "      <td>0</td>\n",
       "      <td>NaN</td>\n",
       "      <td>MnPrv</td>\n",
       "      <td>NaN</td>\n",
       "      <td>0</td>\n",
       "      <td>3</td>\n",
       "      <td>2010</td>\n",
       "      <td>WD</td>\n",
       "      <td>Normal</td>\n",
       "    </tr>\n",
       "  </tbody>\n",
       "</table>\n",
       "<p>5 rows × 82 columns</p>\n",
       "</div>"
      ],
      "text/plain": [
       "   Order        PID  area   price  MS.SubClass MS.Zoning  Lot.Frontage  \\\n",
       "0      1  526301100  1656  215000           20        RL         141.0   \n",
       "1      2  526350040   896  105000           20        RH          80.0   \n",
       "2      3  526351010  1329  172000           20        RL          81.0   \n",
       "3      4  526353030  2110  244000           20        RL          93.0   \n",
       "4      5  527105010  1629  189900           60        RL          74.0   \n",
       "\n",
       "   Lot.Area Street Alley  ... Screen.Porch Pool.Area Pool.QC  Fence  \\\n",
       "0     31770   Pave   NaN  ...            0         0     NaN    NaN   \n",
       "1     11622   Pave   NaN  ...          120         0     NaN  MnPrv   \n",
       "2     14267   Pave   NaN  ...            0         0     NaN    NaN   \n",
       "3     11160   Pave   NaN  ...            0         0     NaN    NaN   \n",
       "4     13830   Pave   NaN  ...            0         0     NaN  MnPrv   \n",
       "\n",
       "  Misc.Feature Misc.Val Mo.Sold Yr.Sold Sale.Type Sale.Condition  \n",
       "0          NaN        0       5    2010       WD          Normal  \n",
       "1          NaN        0       6    2010       WD          Normal  \n",
       "2         Gar2    12500       6    2010       WD          Normal  \n",
       "3          NaN        0       4    2010       WD          Normal  \n",
       "4          NaN        0       3    2010       WD          Normal  \n",
       "\n",
       "[5 rows x 82 columns]"
      ]
     },
     "execution_count": 87,
     "metadata": {},
     "output_type": "execute_result"
    }
   ],
   "source": [
    "# from the datasets, need two numericals\n",
    "# choosing to look at \"Yr.Sold\" (x) vs \"price\" (y)\n",
    "\n",
    "new_data = pd.read_csv(\"../data/ames_prices.csv\")\n",
    "new_data.head()"
   ]
  },
  {
   "cell_type": "code",
   "execution_count": 97,
   "id": "69e0a1c9",
   "metadata": {},
   "outputs": [
    {
     "name": "stdout",
     "output_type": "stream",
     "text": [
      "the matrix of squared errors is of shape:  (2930, 5)\n",
      "the matrix of squared errors is of type:  <class 'numpy.ndarray'>\n",
      "the K matrix is of shape:  (2930, 5)\n",
      "the K matrix is of type:  <class 'numpy.ndarray'>\n",
      "regress is of type:  <class 'numpy.ndarray'>\n"
     ]
    },
    {
     "data": {
      "image/png": "[encoded data removed]",
      "text/plain": [
       "<Figure size 640x480 with 1 Axes>"
      ]
     },
     "metadata": {},
     "output_type": "display_data"
    }
   ],
   "source": [
    "x_axis = new_data[\"Yr.Sold\"]\n",
    "y_axis = new_data[\"price\"]\n",
    "\n",
    "lclsReg = nwe_calc(x_axis, y_axis, new_data)"
   ]
  },
  {
   "cell_type": "markdown",
   "id": "0534c110",
   "metadata": {},
   "source": [
    "5. \n",
    "- In any of the available data sets, investigate the relationships between pairs of variables $(X,Y)$ with a scatterplot and CEF (for example, price on area)\n",
    "- Is this relationship plausibly causal, or are there missing variables that might explain at least part of the relationship between your variables? These can be \"conceptual\" rather than \"practical\"; for example, 'talent' or 'grit' probably explain education outcomes, but are almost impossible to measure. We are asking whether there are hypothetical **threats to causal identification** of the effect of $X$ on $Y$.\n",
    "- Explain how, regardless of the threat to causal identification, you can still use your model to predict $Y$ given $X$, as long as you don't intervene in the system to control the outcome"
   ]
  },
  {
   "cell_type": "code",
   "execution_count": 77,
   "id": "f3e17b86",
   "metadata": {},
   "outputs": [
    {
     "data": {
      "text/plain": [
       "<Axes: xlabel='Yr.Sold', ylabel='price'>"
      ]
     },
     "execution_count": 77,
     "metadata": {},
     "output_type": "execute_result"
    },
    {
     "data": {
      "image/png": "[encoded data removed]",
      "text/plain": [
       "<Figure size 640x480 with 1 Axes>"
      ]
     },
     "metadata": {},
     "output_type": "display_data"
    }
   ],
   "source": [
    "# from the datasets,\n",
    "# choosing to look at \"Yr.Sold\" (x) vs \"price\" (y)\n",
    "\n",
    "data5 = pd.read_csv(\"../data/ames_prices.csv\")\n",
    "\n",
    "# sns.scatterplot(data=df, y='price', x='Fireplaces',alpha=.05, label='data')\n",
    "sns.scatterplot(data=data5, y='price', x='Yr.Sold',alpha=.05, label='data')\n",
    "\n",
    "# means = df.loc[:,['price','Fireplaces']].groupby('Fireplaces').mean()\n",
    "means = data5.loc[:, [\"price\", \"Yr.Sold\"]].groupby(\"Yr.Sold\").mean()\n",
    "\n",
    "# sns.lineplot(data=means, x='Fireplaces',y='price',color='orange', label='$\\\\widehat{\\\\mathbb{E}}[Y|X=x]$')\n",
    "sns.lineplot(data=data5, x=\"Yr.Sold\", y=\"price\", color=\"orange\", label=\"$\\\\widehat{\\\\mathbb{E}}[Y|X=x]$\")"
   ]
  },
  {
   "cell_type": "markdown",
   "id": "4a17e5a5",
   "metadata": {},
   "source": [
    "This CEF is not really causal.  It indicates a relatively stable real estate market over the period of time captured by the data, but real estate markets fluctuate based on a number of factors including banking practices subject to regulation, local economic growth/decline, inflation/depression rates of national currency, geographic location, etc.  That said, the relative stability of the system exhibited in the sample data yields a rather tight CEF projection, so as long as the \"system\" continues as-is without intervention, this CEF analysis can be used to project sale price of a house in a given year."
   ]
  }
 ],
 "metadata": {
  "kernelspec": {
   "display_name": "base",
   "language": "python",
   "name": "python3"
  },
  "language_info": {
   "codemirror_mode": {
    "name": "ipython",
    "version": 3
   },
   "file_extension": ".py",
   "mimetype": "text/x-python",
   "name": "python",
   "nbconvert_exporter": "python",
   "pygments_lexer": "ipython3",
   "version": "3.13.5"
  }
 },
 "nbformat": 4,
 "nbformat_minor": 5
}
